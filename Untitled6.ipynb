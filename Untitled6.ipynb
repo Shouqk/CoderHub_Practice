{
 "cells": [
  {
   "cell_type": "code",
   "execution_count": 1,
   "id": "392b1130",
   "metadata": {},
   "outputs": [],
   "source": [
    "from typing import List\n",
    "def area_of_rectangle(width: int, height: int) -> int:\n",
    "    # write your code here ^_^\n",
    "    return width * height"
   ]
  },
  {
   "cell_type": "code",
   "execution_count": 2,
   "id": "b68937a7",
   "metadata": {},
   "outputs": [
    {
     "name": "stdout",
     "output_type": "stream",
     "text": [
      "2\n",
      "even\n",
      "None\n"
     ]
    }
   ],
   "source": [
    "from typing import List\n",
    "def isEvenOrOdd(num: int) -> str:\n",
    "    if (num%2)==0:\n",
    "        print('even')\n",
    "    else:\n",
    "        print('odd')\n",
    "        return;\n",
    "    \n",
    "        \n",
    "\n",
    "num=int(input())\n",
    "print(isEvenOrOdd(num))"
   ]
  },
  {
   "cell_type": "code",
   "execution_count": 3,
   "id": "d0ee1968",
   "metadata": {},
   "outputs": [
    {
     "name": "stdout",
     "output_type": "stream",
     "text": [
      "2\n",
      "even\n"
     ]
    }
   ],
   "source": [
    "from typing import List\n",
    "def isEvenOrOdd(num: int) -> str:\n",
    "    if num%2==0:\n",
    "        return 'even'\n",
    "    else: \n",
    "            return print('odd')\n",
    "\n",
    "\n",
    "num=int(input())\n",
    "print(isEvenOrOdd(num))"
   ]
  },
  {
   "cell_type": "code",
   "execution_count": 4,
   "id": "573efc98",
   "metadata": {},
   "outputs": [
    {
     "name": "stdout",
     "output_type": "stream",
     "text": [
      "odd\n"
     ]
    }
   ],
   "source": [
    "def type_of_int(i):\n",
    "    if i % 2 == 0:\n",
    "        return 'even'\n",
    "    else:\n",
    "        return 'odd'\n",
    " \n",
    "result = type_of_int(7)\n",
    " \n",
    "print(result)"
   ]
  },
  {
   "cell_type": "code",
   "execution_count": 5,
   "id": "8e5e32ec",
   "metadata": {},
   "outputs": [
    {
     "name": "stdout",
     "output_type": "stream",
     "text": [
      "the day\n",
      "a day\n",
      "None\n"
     ]
    }
   ],
   "source": [
    "from typing import List\n",
    "import re\n",
    "def replaceThe(txt: str) -> str:\n",
    "    if 'the' in txt:  #and re.search(\"^the: (\\w+)\", text)\n",
    "        return txt.replace('the', 'a')\n",
    "    else: \n",
    "        return txt\n",
    "\n",
    "txt=input()\n",
    "print(replaceThe(txt))\n",
    "m=re.search(r'(?<=the)\\w+', txt)\n",
    "print(m)\n",
    "\n",
    "        "
   ]
  },
  {
   "cell_type": "code",
   "execution_count": 6,
   "id": "f63d48d1",
   "metadata": {},
   "outputs": [
    {
     "name": "stdout",
     "output_type": "stream",
     "text": [
      "False\n",
      "True\n"
     ]
    }
   ],
   "source": [
    "def is_vowel(char):\n",
    "    all_vowels = 'aeiou'\n",
    "    return char in all_vowels\n",
    "print(is_vowel('c'))\n",
    "print(is_vowel('e'))"
   ]
  },
  {
   "cell_type": "code",
   "execution_count": 10,
   "id": "0e93452c",
   "metadata": {},
   "outputs": [
    {
     "name": "stdout",
     "output_type": "stream",
     "text": [
      "5\n"
     ]
    }
   ],
   "source": [
    "from typing import List\n",
    "def num_elements(my_array: List[int]) -> int:\n",
    "    return len(my_array)\n",
    "\n",
    "my_array=[1,2,3,4,6]\n",
    "print(num_elements(my_array))"
   ]
  },
  {
   "cell_type": "code",
   "execution_count": 12,
   "id": "2d3a78e2",
   "metadata": {},
   "outputs": [
    {
     "name": "stdout",
     "output_type": "stream",
     "text": [
      "4\n",
      "14400\n"
     ]
    }
   ],
   "source": [
    "from typing import List\n",
    "def convert_to_seconds(hours: int) -> int:\n",
    "    return hours*60*60\n",
    "\n",
    "hours=int(input())\n",
    "print(convert_to_seconds(hours))"
   ]
  },
  {
   "cell_type": "code",
   "execution_count": 15,
   "id": "2dcae413",
   "metadata": {},
   "outputs": [
    {
     "name": "stdout",
     "output_type": "stream",
     "text": [
      "7.5\n"
     ]
    }
   ],
   "source": [
    "from typing import List\n",
    "def get_mean(arr: List[int]) -> float:\n",
    "    return sum(arr)/len(arr)\n",
    "\n",
    "arr=[6,7,8,9]\n",
    "print(get_mean(arr))"
   ]
  },
  {
   "cell_type": "code",
   "execution_count": 16,
   "id": "7de0bc04",
   "metadata": {},
   "outputs": [],
   "source": [
    "from typing import List\n",
    "def sum_even(arr: List[int]) -> int:\n",
    "    int even = 0;\n",
    "    int odd = 0;\n",
    "    for (int i = 0; i < n; i++) {\n",
    "        // Loop to find even, odd sum\n",
    "        if (i % 2 == 0)\n",
    "            even += arr[i];\n",
    "        else\n",
    "            odd += arr[i];\n"
   ]
  },
  {
   "cell_type": "code",
   "execution_count": 26,
   "id": "27ba1064",
   "metadata": {},
   "outputs": [
    {
     "name": "stdout",
     "output_type": "stream",
     "text": [
      "60\n"
     ]
    }
   ],
   "source": [
    "from typing import List\n",
    "def sum_even(arr: List[int]) -> int:    \n",
    "    return sum(~i%2*i for i in arr)\n",
    "     \n",
    "\n",
    "arr = [1, 3, 5, 6, 8, 10, 34, 2, 0, 3]\n",
    "print(sum_even(arr))\n",
    "\n",
    "        "
   ]
  },
  {
   "cell_type": "code",
   "execution_count": 31,
   "id": "4ae30e29",
   "metadata": {},
   "outputs": [
    {
     "name": "stdout",
     "output_type": "stream",
     "text": [
      "60\n"
     ]
    }
   ],
   "source": [
    "from typing import List\n",
    "def sum_even(arr: List[int]) -> int:    \n",
    "    return sum(i for i in arr if i%2==0)\n",
    "     \n",
    "\n",
    "arr = [1, 3, 5, 6, 8, 10, 34, 2, 0, 3]\n",
    "print(sum_even(arr))\n",
    "\n",
    "\n",
    "\n"
   ]
  },
  {
   "cell_type": "code",
   "execution_count": 67,
   "id": "aae4bf5a",
   "metadata": {},
   "outputs": [
    {
     "name": "stdout",
     "output_type": "stream",
     "text": [
      "12\n"
     ]
    },
    {
     "ename": "NameError",
     "evalue": "name 'count' is not defined",
     "output_type": "error",
     "traceback": [
      "\u001b[1;31m---------------------------------------------------------------------------\u001b[0m",
      "\u001b[1;31mNameError\u001b[0m                                 Traceback (most recent call last)",
      "\u001b[1;32m<ipython-input-67-a57237d06d86>\u001b[0m in \u001b[0;36m<module>\u001b[1;34m\u001b[0m\n\u001b[0;32m     17\u001b[0m \u001b[1;33m\u001b[0m\u001b[0m\n\u001b[0;32m     18\u001b[0m \u001b[0mnum\u001b[0m\u001b[1;33m=\u001b[0m\u001b[0minput\u001b[0m\u001b[1;33m(\u001b[0m\u001b[1;33m)\u001b[0m\u001b[1;33m\u001b[0m\u001b[1;33m\u001b[0m\u001b[0m\n\u001b[1;32m---> 19\u001b[1;33m \u001b[0mprint\u001b[0m\u001b[1;33m(\u001b[0m\u001b[0moddsVsEvens\u001b[0m\u001b[1;33m(\u001b[0m\u001b[0mnum\u001b[0m\u001b[1;33m)\u001b[0m\u001b[1;33m)\u001b[0m\u001b[1;33m\u001b[0m\u001b[1;33m\u001b[0m\u001b[0m\n\u001b[0m",
      "\u001b[1;32m<ipython-input-67-a57237d06d86>\u001b[0m in \u001b[0;36moddsVsEvens\u001b[1;34m(num)\u001b[0m\n\u001b[0;32m      3\u001b[0m     \u001b[0mlst\u001b[0m \u001b[1;33m=\u001b[0m \u001b[0mlist\u001b[0m\u001b[1;33m(\u001b[0m\u001b[0mrange\u001b[0m\u001b[1;33m(\u001b[0m\u001b[1;36m1\u001b[0m\u001b[1;33m,\u001b[0m\u001b[0mint\u001b[0m\u001b[1;33m(\u001b[0m\u001b[0mnum\u001b[0m\u001b[1;33m)\u001b[0m\u001b[1;33m+\u001b[0m\u001b[1;36m1\u001b[0m\u001b[1;33m)\u001b[0m\u001b[1;33m)\u001b[0m\u001b[1;33m\u001b[0m\u001b[1;33m\u001b[0m\u001b[0m\n\u001b[0;32m      4\u001b[0m     \u001b[1;31m#print(lst)\u001b[0m\u001b[1;33m\u001b[0m\u001b[1;33m\u001b[0m\u001b[1;33m\u001b[0m\u001b[0m\n\u001b[1;32m----> 5\u001b[1;33m     \u001b[0meven_num\u001b[0m \u001b[1;33m=\u001b[0m \u001b[0mcount\u001b[0m\u001b[1;33m(\u001b[0m\u001b[0mi\u001b[0m \u001b[1;32mfor\u001b[0m \u001b[0mi\u001b[0m \u001b[1;32min\u001b[0m \u001b[0mlst\u001b[0m \u001b[1;32mif\u001b[0m \u001b[0mi\u001b[0m\u001b[1;33m%\u001b[0m\u001b[1;36m2\u001b[0m\u001b[1;33m==\u001b[0m\u001b[1;36m0\u001b[0m\u001b[1;33m)\u001b[0m\u001b[1;33m\u001b[0m\u001b[1;33m\u001b[0m\u001b[0m\n\u001b[0m\u001b[0;32m      6\u001b[0m     \u001b[0modd_num\u001b[0m \u001b[1;33m=\u001b[0m \u001b[0mcount\u001b[0m\u001b[1;33m(\u001b[0m\u001b[0mi\u001b[0m \u001b[1;32mfor\u001b[0m \u001b[0mi\u001b[0m \u001b[1;32min\u001b[0m \u001b[0mlst\u001b[0m \u001b[1;32mif\u001b[0m \u001b[1;32mnot\u001b[0m \u001b[0mi\u001b[0m\u001b[1;33m%\u001b[0m\u001b[1;36m2\u001b[0m\u001b[1;33m==\u001b[0m\u001b[1;36m0\u001b[0m\u001b[1;33m)\u001b[0m\u001b[1;33m\u001b[0m\u001b[1;33m\u001b[0m\u001b[0m\n\u001b[0;32m      7\u001b[0m     \u001b[1;31m#print(sum_even)\u001b[0m\u001b[1;33m\u001b[0m\u001b[1;33m\u001b[0m\u001b[1;33m\u001b[0m\u001b[0m\n",
      "\u001b[1;31mNameError\u001b[0m: name 'count' is not defined"
     ]
    }
   ],
   "source": [
    "from typing import List\n",
    "def oddsVsEvens(num: int) -> str:\n",
    "    lst = list(range(1,int(num)+1))\n",
    "    #print(lst)\n",
    "    even_num = count(i for i in lst if i%2==0)\n",
    "    odd_num = count(i for i in lst if not i%2==0)\n",
    "    #print(sum_even)\n",
    "    #print(sum_odd)\n",
    "    if even_num>odd_num:\n",
    "        return 'even'\n",
    "    elif even_num<odd_num:\n",
    "        return 'odd'\n",
    "    else:\n",
    "        return 'equal'\n",
    "\n",
    "\n",
    "\n",
    "num=input()\n",
    "print(oddsVsEvens(num))"
   ]
  },
  {
   "cell_type": "code",
   "execution_count": 84,
   "id": "0e1a4118",
   "metadata": {},
   "outputs": [],
   "source": [
    "from typing import List\n",
    "def oddsVsEvens(num: int) -> str:\n",
    "    # write your code here ^_^\n",
    "    StrNum = str(num) \n",
    "    odd = 0 \n",
    "    even = 0\n",
    "    for i in StrNum:\n",
    "        if (int(i) % 2) == 0:\n",
    "            even+= int(int(i))\n",
    "        else:\n",
    "            odd+= int(int(i))\n",
    "    \n",
    "    if even > odd:\n",
    "        return(\"even\")\n",
    "    elif odd > even:\n",
    "        return(\"odd\")\n",
    "    else:\n",
    "        return(\"equal\")"
   ]
  },
  {
   "cell_type": "code",
   "execution_count": 6,
   "id": "03ce9a6f",
   "metadata": {},
   "outputs": [
    {
     "name": "stdout",
     "output_type": "stream",
     "text": [
      "2\n",
      "12.566370614359172\n"
     ]
    }
   ],
   "source": [
    "from typing import List\n",
    "import math\n",
    "def calculate_circumference(radius: float) -> float:\n",
    "    return 2*(math.pi)*(radius)\n",
    "\n",
    "radius=float(input())\n",
    "print(calculate_circumference(radius))"
   ]
  },
  {
   "cell_type": "code",
   "execution_count": 10,
   "id": "696d5785",
   "metadata": {},
   "outputs": [
    {
     "name": "stdout",
     "output_type": "stream",
     "text": [
      "130.55\n",
      "20.788216560509554\n"
     ]
    }
   ],
   "source": [
    "from typing import List\n",
    "\n",
    "def raduis(circumference: float) -> float:\n",
    "    return circumference/(2*3.14)\n",
    "\n",
    "circumference=float(input())\n",
    "print(raduis(circumference))\n"
   ]
  },
  {
   "cell_type": "code",
   "execution_count": 24,
   "id": "7d0e4ea1",
   "metadata": {},
   "outputs": [
    {
     "name": "stdout",
     "output_type": "stream",
     "text": [
      "False\n"
     ]
    }
   ],
   "source": [
    "from typing import List\n",
    "def logical_and(a: bool, b: bool) -> bool:\n",
    "    return a and b\n",
    "\n",
    "a = True\n",
    "b = False\n",
    "print(logical_and(a,b))"
   ]
  },
  {
   "cell_type": "code",
   "execution_count": 149,
   "id": "2ded190e",
   "metadata": {},
   "outputs": [
    {
     "name": "stdout",
     "output_type": "stream",
     "text": [
      "[97]\n"
     ]
    }
   ],
   "source": [
    "from typing import List\n",
    "def getPrimesBetween(a: int, b: int) -> List[int]:\n",
    "    lst=[]\n",
    "    for x in range (a,b+1):  \n",
    "        if x > 1:  \n",
    "            for i in range (2, x):  \n",
    "                if (x % i) == 0:  \n",
    "                    break  \n",
    "            else:  \n",
    "                lst.append(x) \n",
    "    return lst\n",
    "\n",
    "\n",
    "\n",
    "\n",
    "a=90\n",
    "b=100\n",
    "print(getPrimesBetween(a,b))\n"
   ]
  },
  {
   "cell_type": "code",
   "execution_count": 159,
   "id": "ddde1b1b",
   "metadata": {},
   "outputs": [
    {
     "name": "stdout",
     "output_type": "stream",
     "text": [
      "8\n"
     ]
    }
   ],
   "source": [
    "from typing import List\n",
    "def returnStringLetters(string1: str, string2: str) -> int:\n",
    "    if len(string1)>len(string2):\n",
    "        return len(string1)\n",
    "    elif len(string1)<len(string2):\n",
    "        return len(string2)\n",
    "    else:\n",
    "        return len(string1)\n",
    "\n",
    "\n",
    "\n",
    "string1 = 'Ahmad'\n",
    "string2 = 'Mohammad'\n",
    "print(returnStringLetters(string1,string2))"
   ]
  },
  {
   "cell_type": "code",
   "execution_count": 174,
   "id": "515d28c8",
   "metadata": {},
   "outputs": [
    {
     "name": "stdout",
     "output_type": "stream",
     "text": [
      "False\n"
     ]
    }
   ],
   "source": [
    "from typing import List\n",
    "def isMirrored(num: int) -> bool:\n",
    "    if num == int(str(num)[::-1]):\n",
    "        return True\n",
    "    else:\n",
    "        return False\n",
    "\n",
    "print(isMirrored(112))"
   ]
  },
  {
   "cell_type": "code",
   "execution_count": 176,
   "id": "6ccc1f6e",
   "metadata": {},
   "outputs": [
    {
     "name": "stdout",
     "output_type": "stream",
     "text": [
      "True\n"
     ]
    }
   ],
   "source": [
    "from typing import List\n",
    "def equal_check(num1: int, num2: int) -> bool:\n",
    "    if num1 == num2:\n",
    "        return True\n",
    "    else:\n",
    "        return False\n",
    "\n",
    "print(equal_check(1,1))"
   ]
  },
  {
   "cell_type": "code",
   "execution_count": 190,
   "id": "2c7f022e",
   "metadata": {},
   "outputs": [
    {
     "name": "stdout",
     "output_type": "stream",
     "text": [
      "91\n"
     ]
    }
   ],
   "source": [
    "from typing import List\n",
    "def number_sum(num: int) -> int:\n",
    "    return sum(list(range(num+1)))\n",
    "\n",
    "\n",
    "print(number_sum(13))\n"
   ]
  },
  {
   "cell_type": "code",
   "execution_count": 194,
   "id": "08cd113f",
   "metadata": {},
   "outputs": [
    {
     "name": "stdout",
     "output_type": "stream",
     "text": [
      "4\n"
     ]
    }
   ],
   "source": [
    "from typing import List\n",
    "def exponent_squared(number: int) -> int:\n",
    "    return (number)**2\n",
    "\n",
    "print(exponent_squared(2))"
   ]
  },
  {
   "cell_type": "code",
   "execution_count": 207,
   "id": "eaeca64f",
   "metadata": {},
   "outputs": [
    {
     "name": "stdout",
     "output_type": "stream",
     "text": [
      "3.0\n"
     ]
    }
   ],
   "source": [
    "from typing import List\n",
    "import math\n",
    "def cubicRoot(num: int) -> float:\n",
    "    return math.pow(num,(1/3))\n",
    "\n",
    "\n",
    "\n",
    "print(cubicRoot(27))"
   ]
  },
  {
   "cell_type": "code",
   "execution_count": 211,
   "id": "a256c04e",
   "metadata": {},
   "outputs": [
    {
     "data": {
      "text/plain": [
       "7"
      ]
     },
     "execution_count": 211,
     "metadata": {},
     "output_type": "execute_result"
    }
   ],
   "source": [
    "from typing import List\n",
    "def sum_two_smallest_nums(arr: List[int]) -> int:\n",
    "    min1=min(arr)\n",
    "    arr.remove(min1)\n",
    "    min2=min(arr)\n",
    "    return min1+min2\n",
    "\n",
    "arr = [4,3,60,9]\n",
    "\n",
    "sum_two_smallest_nums(arr)"
   ]
  },
  {
   "cell_type": "code",
   "execution_count": 209,
   "id": "b213ee42",
   "metadata": {},
   "outputs": [
    {
     "name": "stdout",
     "output_type": "stream",
     "text": [
      "1\n",
      "3\n"
     ]
    }
   ],
   "source": [
    "def second_smallest(l):\n",
    "    list_copy = l.copy()\n",
    "    min_value = min(list_copy)\n",
    "\n",
    "    list_copy.remove(min_value)\n",
    "\n",
    "    return min(list_copy)\n",
    "\n",
    "\n",
    "print(second_smallest([1, 1, 3, 5, 7]))  # 👉️ 1\n",
    "print(second_smallest([1, 3, 5, 7]))  # 👉️ 3"
   ]
  },
  {
   "cell_type": "code",
   "execution_count": 212,
   "id": "e8b6d96f",
   "metadata": {},
   "outputs": [
    {
     "name": "stdout",
     "output_type": "stream",
     "text": [
      "added\n"
     ]
    }
   ],
   "source": [
    "from typing import List\n",
    "def operation(num1: int, num2: int) -> str:\n",
    "    if num1+num2==24:\n",
    "        return 'added'\n",
    "    elif num1*num2==24:\n",
    "        return 'multiplied'\n",
    "    elif num1-num2==24 or num2-num1==24:\n",
    "        return 'subtracted'\n",
    "    elif num1/num2==24 or num2/num1==24:\n",
    "        return 'divided'\n",
    "    else:\n",
    "        return 'None'\n",
    "print(operation(20,4))"
   ]
  },
  {
   "cell_type": "code",
   "execution_count": 220,
   "id": "b5207021",
   "metadata": {},
   "outputs": [
    {
     "name": "stdout",
     "output_type": "stream",
     "text": [
      "CoderHu\n"
     ]
    }
   ],
   "source": [
    "from typing import List\n",
    "def deleteLastChar(word: str) -> str:\n",
    "    word = word[:len(word)-1]\n",
    "    return word\n",
    "\n",
    "\n",
    "word = 'CoderHub'\n",
    "print(deleteLastChar(word))"
   ]
  },
  {
   "cell_type": "code",
   "execution_count": 26,
   "id": "76b6a446",
   "metadata": {},
   "outputs": [
    {
     "data": {
      "text/plain": [
       "0"
      ]
     },
     "execution_count": 26,
     "metadata": {},
     "output_type": "execute_result"
    }
   ],
   "source": [
    "from typing import List\n",
    "def Decimal_places(num: str) -> int:\n",
    "    if '.' in num:\n",
    "        return (num)[::-1].find('.')\n",
    "    else:\n",
    "        return 0\n",
    "    \n",
    "    \n",
    "\n",
    "\n",
    "num='200'\n",
    "Decimal_places(num)"
   ]
  },
  {
   "cell_type": "code",
   "execution_count": 32,
   "id": "6e646913",
   "metadata": {},
   "outputs": [
    {
     "data": {
      "text/plain": [
       "2"
      ]
     },
     "execution_count": 32,
     "metadata": {},
     "output_type": "execute_result"
    }
   ],
   "source": [
    "from typing import List\n",
    "def div_remainder(a: int, b: int) -> int:\n",
    "    return a % b\n",
    "\n",
    "div_remainder(77,5)"
   ]
  },
  {
   "cell_type": "code",
   "execution_count": 78,
   "id": "df9d15d6",
   "metadata": {},
   "outputs": [
    {
     "name": "stdout",
     "output_type": "stream",
     "text": [
      "12\n"
     ]
    }
   ],
   "source": [
    "from typing import List\n",
    "def sumOdd(arr: List[int]) -> int:   \n",
    "    return sum(i for i in arr if i%2!=0)\n",
    "     \n",
    "\n",
    "arr = [1, 3, 5, 6, 8, 10, 34, 2, 0, 3]\n",
    "print(sumOdd(arr))"
   ]
  },
  {
   "cell_type": "code",
   "execution_count": 40,
   "id": "f7d84900",
   "metadata": {},
   "outputs": [],
   "source": [
    "from typing import List\n",
    "def less_or_more_than_zero(number: int) -> str:\n",
    "    if number>0:\n",
    "        return 'Greater than zero'\n",
    "    elif number<0:\n",
    "        return 'Less than zero'\n",
    "    else:\n",
    "        return 'Equal to zero'\n",
    "    "
   ]
  },
  {
   "cell_type": "code",
   "execution_count": 44,
   "id": "014ccf22",
   "metadata": {},
   "outputs": [
    {
     "data": {
      "text/plain": [
       "[-3, 4, 0]"
      ]
     },
     "execution_count": 44,
     "metadata": {},
     "output_type": "execute_result"
    }
   ],
   "source": [
    "from typing import List\n",
    "def delete_element_in_array(arr: List[int], index: int) -> List[int]:\n",
    "    del(arr[index])\n",
    "    return arr\n",
    "\n",
    "arr = [3,2,4,88]\n",
    "index = 2\n",
    "delete_element_in_array(arr,index)\n",
    "arr = [3,-3,4,0]\n",
    "index = 0\n",
    "delete_element_in_array(arr,index)\n"
   ]
  },
  {
   "cell_type": "code",
   "execution_count": 48,
   "id": "4c34ed9f",
   "metadata": {},
   "outputs": [
    {
     "data": {
      "text/plain": [
       "'غير متشابهتين'"
      ]
     },
     "execution_count": 48,
     "metadata": {},
     "output_type": "execute_result"
    }
   ],
   "source": [
    "from typing import List\n",
    "def is_same(name1: str, name2: str) -> str:\n",
    "    if name1 == name2:\n",
    "        return 'متشابهتين'\n",
    "    else:\n",
    "        return 'غير متشابهتين'\n",
    "    \n",
    "is_same('shoug','Shoug')"
   ]
  },
  {
   "cell_type": "code",
   "execution_count": 51,
   "id": "6c44ae62",
   "metadata": {},
   "outputs": [
    {
     "data": {
      "text/plain": [
       "153.86"
      ]
     },
     "execution_count": 51,
     "metadata": {},
     "output_type": "execute_result"
    }
   ],
   "source": [
    "from typing import List\n",
    "def find_circle_area(radius: float) -> float:\n",
    "    return (3.14)*radius**2\n",
    "\n",
    "find_circle_area(7)"
   ]
  },
  {
   "cell_type": "code",
   "execution_count": 52,
   "id": "68da7151",
   "metadata": {},
   "outputs": [],
   "source": [
    "#from typing import List\n",
    "#def coins_combinations(amount: int, coins: List[int]) -> int:\n",
    "    \n",
    "    \n"
   ]
  },
  {
   "cell_type": "code",
   "execution_count": 55,
   "id": "6d999c69",
   "metadata": {},
   "outputs": [
    {
     "data": {
      "text/plain": [
       "23.4"
      ]
     },
     "execution_count": 55,
     "metadata": {},
     "output_type": "execute_result"
    }
   ],
   "source": [
    "from typing import List\n",
    "def perimeter_of_prallelogram(base_value: float, length: float) -> float:\n",
    "    return 2*(base_value+length)\n",
    "perimeter_of_prallelogram(4,7.7)"
   ]
  },
  {
   "cell_type": "code",
   "execution_count": 59,
   "id": "802e5129",
   "metadata": {},
   "outputs": [
    {
     "data": {
      "text/plain": [
       "3628800"
      ]
     },
     "execution_count": 59,
     "metadata": {},
     "output_type": "execute_result"
    }
   ],
   "source": [
    "from typing import List\n",
    "import math\n",
    "def factorial(number: int) -> int:\n",
    "    return math.factorial(number)\n",
    "\n",
    "factorial(10)"
   ]
  },
  {
   "cell_type": "code",
   "execution_count": 66,
   "id": "a5fde159",
   "metadata": {},
   "outputs": [
    {
     "data": {
      "text/plain": [
       "[1, 3, 4, 5]"
      ]
     },
     "execution_count": 66,
     "metadata": {},
     "output_type": "execute_result"
    }
   ],
   "source": [
    "from typing import List\n",
    "def mergeAndOrder(array1: List[int], array2: List[int]) -> List[int]:\n",
    "    arr = array1+array2\n",
    "    arr.sort()\n",
    "    return arr\n",
    "\n",
    "array1 = [1,5]\n",
    "array2 = [3,4]\n",
    "mergeAndOrder(array1,array2)"
   ]
  },
  {
   "cell_type": "code",
   "execution_count": null,
   "id": "a832dda4",
   "metadata": {},
   "outputs": [],
   "source": [
    "from typing import List\n",
    "def countdown(num: int) -> List[int]:\n",
    "    lst=list(range(0,num))\n",
    "     #for i in lst:\n",
    "        #if lst[i]%2!=0:\n",
    "    del(lst[1])\n",
    "        #else:    \n",
    "    return lst\n",
    "\n",
    "    \n",
    "countdown(4)"
   ]
  },
  {
   "cell_type": "code",
   "execution_count": 4,
   "id": "c066b8e1",
   "metadata": {},
   "outputs": [
    {
     "name": "stdout",
     "output_type": "stream",
     "text": [
      "Valid Email\n",
      "Valid Email\n",
      "Invalid Email\n"
     ]
    }
   ],
   "source": [
    "import re\n",
    "\n",
    "# Make a regular expression\n",
    "# for validating an Email\n",
    "regex = r'\\b[A-Za-z0-9._%+-]+@[A-Za-z0-9.-]+\\.[A-Z|a-z]{2,7}\\b'\n",
    "\n",
    "# Define a function for\n",
    "# for validating an Email\n",
    "def check(email):\n",
    "\n",
    "\t# pass the regular expression\n",
    "\t# and the string into the fullmatch() method\n",
    "\tif(re.fullmatch(regex, email)):\n",
    "\t\tprint(\"Valid Email\")\n",
    "\n",
    "\telse:\n",
    "\t\tprint(\"Invalid Email\")\n",
    "\n",
    "# Driver Code\n",
    "if __name__ == '__main__':\n",
    "\n",
    "\t# Enter the email\n",
    "\temail = \"ankitrai326@gmail.com\"\n",
    "\n",
    "\t# calling run function\n",
    "\tcheck(email)\n",
    "\n",
    "\temail = \"my.ownsite@our-earth.org\"\n",
    "\tcheck(email)\n",
    "\n",
    "\temail = \"ankitrai326.com\"\n",
    "\tcheck(email)\n"
   ]
  },
  {
   "cell_type": "code",
   "execution_count": 10,
   "id": "dd83e40f",
   "metadata": {},
   "outputs": [
    {
     "data": {
      "text/plain": [
       "False"
      ]
     },
     "execution_count": 10,
     "metadata": {},
     "output_type": "execute_result"
    }
   ],
   "source": [
    "from typing import List\n",
    "import re\n",
    "def isEmail(email: str) -> bool:\n",
    "    regex = r'\\b[A-Za-z0-9._%+-]+@[A-Za-z0-9.-]+\\.[A-Z|a-z]{2,7}\\b'\n",
    "    if(re.fullmatch(regex, email)):\n",
    "        return True\n",
    "    else:\n",
    "        return False\n",
    "        \n",
    "\n",
    "email = '@example.com'\n",
    "isEmail(email)\n"
   ]
  },
  {
   "cell_type": "code",
   "execution_count": 1,
   "id": "5615189c",
   "metadata": {},
   "outputs": [
    {
     "data": {
      "text/plain": [
       "5.0"
      ]
     },
     "execution_count": 1,
     "metadata": {},
     "output_type": "execute_result"
    }
   ],
   "source": [
    "from typing import List\n",
    "import math\n",
    "def squareRoot(num: float) -> float:\n",
    "    return math.sqrt(num)\n",
    "\n",
    "num=25\n",
    "squareRoot(num)"
   ]
  },
  {
   "cell_type": "code",
   "execution_count": 4,
   "id": "8ecf0fda",
   "metadata": {},
   "outputs": [
    {
     "data": {
      "text/plain": [
       "\"'one,test'\""
      ]
     },
     "execution_count": 4,
     "metadata": {},
     "output_type": "execute_result"
    }
   ],
   "source": [
    "from typing import List\n",
    "def reverse_words(str1: str, str2: str) -> str:\n",
    "    return \"'{},{}'\".format(str2,str1)\n",
    "\n",
    "str1 = 'test'\n",
    "str2 = 'one'\n",
    "reverse_words(str1,str2)"
   ]
  },
  {
   "cell_type": "code",
   "execution_count": 16,
   "id": "04351456",
   "metadata": {},
   "outputs": [
    {
     "data": {
      "text/plain": [
       "'bear,my'"
      ]
     },
     "execution_count": 16,
     "metadata": {},
     "output_type": "execute_result"
    }
   ],
   "source": [
    "from typing import List\n",
    "def reverse_words(str1: str, str2: str) -> str:\n",
    "    str = str2+ ',' +str1\n",
    "    return str\n",
    "\n",
    "str1 = 'my'\n",
    "str2 = 'bear'\n",
    "reverse_words(str1,str2)"
   ]
  },
  {
   "cell_type": "code",
   "execution_count": 2,
   "id": "ff1037c5",
   "metadata": {},
   "outputs": [
    {
     "name": "stdout",
     "output_type": "stream",
     "text": [
      "5.0\n"
     ]
    }
   ],
   "source": [
    "from typing import List\n",
    "import math\n",
    "def squareRoot(num: float) -> float:\n",
    "    return math.sqrt(num)\n",
    "\n",
    "print(squareRoot(25))"
   ]
  },
  {
   "cell_type": "code",
   "execution_count": 12,
   "id": "43d91465",
   "metadata": {},
   "outputs": [
    {
     "data": {
      "text/plain": [
       "0"
      ]
     },
     "execution_count": 12,
     "metadata": {},
     "output_type": "execute_result"
    }
   ],
   "source": [
    "from typing import List\n",
    "def calculate_sum(lst: List[int]) -> int:\n",
    "    if 7 not in lst:\n",
    "        return sum(lst)\n",
    "    else:\n",
    "        return 0\n",
    "\n",
    "lst = [7,469]\n",
    "\n",
    "calculate_sum(lst)"
   ]
  },
  {
   "cell_type": "code",
   "execution_count": 16,
   "id": "59b0d96a",
   "metadata": {},
   "outputs": [
    {
     "data": {
      "text/plain": [
       "5.0"
      ]
     },
     "execution_count": 16,
     "metadata": {},
     "output_type": "execute_result"
    }
   ],
   "source": [
    "from typing import List\n",
    "import math\n",
    "def root_check(sqr: float, num: int) -> int:\n",
    "    if num == math.sqrt(sqr):\n",
    "        return math.sqrt(sqr)\n",
    "    else:\n",
    "        return 0\n",
    "    \n",
    "sqr = 25\n",
    "num = 5\n",
    "root_check(sqr,num)"
   ]
  },
  {
   "cell_type": "code",
   "execution_count": 36,
   "id": "4f1f633b",
   "metadata": {},
   "outputs": [
    {
     "data": {
      "text/plain": [
       "'#stay_home#coronavirus#Saudi_Arabia'"
      ]
     },
     "execution_count": 36,
     "metadata": {},
     "output_type": "execute_result"
    }
   ],
   "source": [
    "from typing import List\n",
    "def hashtag_it(my_array: List[str]) -> str:\n",
    "    return '#{0}'.format('#'.join(my_array))\n",
    "\n",
    "my_array = ['stay_home','coronavirus','Saudi_Arabia']\n",
    "hashtag_it(my_array)\n"
   ]
  },
  {
   "cell_type": "code",
   "execution_count": 33,
   "id": "71944cd6",
   "metadata": {},
   "outputs": [
    {
     "data": {
      "text/plain": [
       "'#hello #world #you #look #nice'"
      ]
     },
     "execution_count": 33,
     "metadata": {},
     "output_type": "execute_result"
    }
   ],
   "source": [
    "words = ['hello', 'world', 'you', 'look', 'nice']\n",
    "'#{0}'.format(' #'.join(words))\n"
   ]
  },
  {
   "cell_type": "code",
   "execution_count": 9,
   "id": "93909281",
   "metadata": {},
   "outputs": [
    {
     "name": "stdout",
     "output_type": "stream",
     "text": [
      "5\n",
      "4\n",
      "12\n",
      "12\n",
      "12\n"
     ]
    },
    {
     "data": {
      "text/plain": [
       "'equal'"
      ]
     },
     "execution_count": 9,
     "metadata": {},
     "output_type": "execute_result"
    }
   ],
   "source": [
    "def oddsVsEvens(num: int) -> str:\n",
    "    str1= str(num)\n",
    "    res = [int(x) for x in str1]\n",
    "    oddNum=0\n",
    "    evenNum=0\n",
    "    str1=''\n",
    "    for x in res:\n",
    "        if (x%2==0):\n",
    "            evenNum+=x\n",
    "            print(evenNum)\n",
    "        else:\n",
    "            oddNum+=x\n",
    "            print(oddNum)\n",
    "\n",
    "    if oddNum>evenNum:\n",
    "        str1+='odd'\n",
    "        \n",
    "    elif evenNum>oddNum:\n",
    "        str1+='even'\n",
    "        \n",
    "    else:\n",
    "        str1+='equal'\n",
    "        \n",
    "    \n",
    "    return str1\n",
    "\n",
    "num = 54870\n",
    "oddsVsEvens(num)"
   ]
  },
  {
   "cell_type": "code",
   "execution_count": 27,
   "id": "7d7a1cbd",
   "metadata": {},
   "outputs": [
    {
     "data": {
      "text/plain": [
       "'-1'"
      ]
     },
     "execution_count": 27,
     "metadata": {},
     "output_type": "execute_result"
    }
   ],
   "source": [
    "from typing import List\n",
    "def addStrNums(num1: str, num2: str) -> str:\n",
    "    if num1.isnumeric()==True  and num2.isnumeric()==True :\n",
    "        Sum=int(num1)+int(num2)\n",
    "        strNum=str(Sum)\n",
    "    else:\n",
    "        strNum = '-1'\n",
    "    return strNum\n",
    "\n",
    "num1 = 'hi'\n",
    "num2 = '6'\n",
    "addStrNums(num1,num2)\n",
    "\n",
    "    "
   ]
  },
  {
   "cell_type": "code",
   "execution_count": 3,
   "id": "afe6d2f6",
   "metadata": {},
   "outputs": [
    {
     "data": {
      "text/plain": [
       "[1, 8]"
      ]
     },
     "execution_count": 3,
     "metadata": {},
     "output_type": "execute_result"
    }
   ],
   "source": [
    "from typing import List\n",
    "def largest_smallest(array_values: List[int]) -> List[int]:\n",
    "    ls = [max(array_values),min(array_values)]\n",
    "    return ls\n",
    "\n",
    "\n",
    "\n",
    "\n",
    "\n",
    "\n",
    "array_values = [1,1,2,5,2,5,8]\n",
    "largest_smallest(array_values)"
   ]
  },
  {
   "cell_type": "code",
   "execution_count": 28,
   "id": "d2a81d83",
   "metadata": {},
   "outputs": [
    {
     "data": {
      "text/plain": [
       "['Mohammed Yahya', 'Khaled Bader', 'Khaled Bader']"
      ]
     },
     "execution_count": 28,
     "metadata": {},
     "output_type": "execute_result"
    }
   ],
   "source": [
    "from typing import List\n",
    "def namesSort(namesArray: List[str], order: str) -> List[str]:\n",
    "    if order == 'ASC':\n",
    "        namesArray.sort()\n",
    "    elif order == 'DESC':\n",
    "        namesArray.sort(reverse=True)\n",
    "    else:\n",
    "        pass\n",
    "    return namesArray\n",
    "    \n",
    " \n",
    "\n",
    "\n",
    "namesArray = ['Khaled Bader','Khaled Bader','Mohammed Yahya']\n",
    "order = 'DESC'\n",
    "namesSort(namesArray,order)\n"
   ]
  },
  {
   "cell_type": "code",
   "execution_count": 6,
   "id": "4c744f90",
   "metadata": {},
   "outputs": [
    {
     "data": {
      "text/plain": [
       "[231, 7]"
      ]
     },
     "execution_count": 6,
     "metadata": {},
     "output_type": "execute_result"
    }
   ],
   "source": [
    "from typing import List\n",
    "def cumulative_addition(elements_array: List[int]) -> List[int]:\n",
    "    return [sum(elements_array),len(elements_array)]\n",
    "    \n",
    "    \n",
    "elements_array = [5,1,2,4,9,10,200]\n",
    "cumulative_addition(elements_array)\n"
   ]
  },
  {
   "cell_type": "code",
   "execution_count": 7,
   "id": "6f44bffa",
   "metadata": {},
   "outputs": [
    {
     "data": {
      "text/plain": [
       "True"
      ]
     },
     "execution_count": 7,
     "metadata": {},
     "output_type": "execute_result"
    }
   ],
   "source": [
    "from typing import List\n",
    "def stringCheck(value: List[str]) -> bool:\n",
    "    if value[0] == value[1]:\n",
    "        return True\n",
    "    else:\n",
    "        return False\n",
    "\n",
    "\n",
    "\n",
    "value = ['Code','Code','Code']\n",
    "stringCheck(value)"
   ]
  },
  {
   "cell_type": "code",
   "execution_count": 16,
   "id": "6c206306",
   "metadata": {},
   "outputs": [
    {
     "data": {
      "text/plain": [
       "9753"
      ]
     },
     "execution_count": 16,
     "metadata": {},
     "output_type": "execute_result"
    }
   ],
   "source": [
    "from typing import List\n",
    "import re\n",
    "def left_digit(strParam: str) -> int:\n",
    "    match = re.search(r'\\d+', strParam)\n",
    "    if match:\n",
    "        return int(match.group())\n",
    "    \n",
    "\n",
    "    \n",
    "\n",
    "strParam = '9753'\n",
    "left_digit(strParam)"
   ]
  },
  {
   "cell_type": "code",
   "execution_count": 39,
   "id": "4c03489c",
   "metadata": {},
   "outputs": [
    {
     "ename": "NameError",
     "evalue": "name 'isnumeric' is not defined",
     "output_type": "error",
     "traceback": [
      "\u001b[1;31m---------------------------------------------------------------------------\u001b[0m",
      "\u001b[1;31mNameError\u001b[0m                                 Traceback (most recent call last)",
      "\u001b[1;32m<ipython-input-39-7d8c15c20085>\u001b[0m in \u001b[0;36m<module>\u001b[1;34m\u001b[0m\n\u001b[0;32m      9\u001b[0m \u001b[1;33m\u001b[0m\u001b[0m\n\u001b[0;32m     10\u001b[0m \u001b[0mstrParam\u001b[0m \u001b[1;33m=\u001b[0m \u001b[1;34m'9753'\u001b[0m\u001b[1;33m\u001b[0m\u001b[1;33m\u001b[0m\u001b[0m\n\u001b[1;32m---> 11\u001b[1;33m \u001b[0mleft_digit\u001b[0m\u001b[1;33m(\u001b[0m\u001b[0mstrParam\u001b[0m\u001b[1;33m)\u001b[0m\u001b[1;33m\u001b[0m\u001b[1;33m\u001b[0m\u001b[0m\n\u001b[0m",
      "\u001b[1;32m<ipython-input-39-7d8c15c20085>\u001b[0m in \u001b[0;36mleft_digit\u001b[1;34m(strParam)\u001b[0m\n\u001b[0;32m      3\u001b[0m \u001b[1;32mdef\u001b[0m \u001b[0mleft_digit\u001b[0m\u001b[1;33m(\u001b[0m\u001b[0mstrParam\u001b[0m\u001b[1;33m:\u001b[0m \u001b[0mstr\u001b[0m\u001b[1;33m)\u001b[0m \u001b[1;33m->\u001b[0m \u001b[0mint\u001b[0m\u001b[1;33m:\u001b[0m\u001b[1;33m\u001b[0m\u001b[1;33m\u001b[0m\u001b[0m\n\u001b[0;32m      4\u001b[0m     \u001b[0mstrParam1\u001b[0m \u001b[1;33m=\u001b[0m \u001b[0mlist\u001b[0m\u001b[1;33m(\u001b[0m\u001b[0mstrParam\u001b[0m\u001b[1;33m)\u001b[0m\u001b[1;33m\u001b[0m\u001b[1;33m\u001b[0m\u001b[0m\n\u001b[1;32m----> 5\u001b[1;33m     \u001b[0misnumeric\u001b[0m\u001b[1;33m(\u001b[0m\u001b[1;33m)\u001b[0m\u001b[1;33m\u001b[0m\u001b[1;33m\u001b[0m\u001b[0m\n\u001b[0m\u001b[0;32m      6\u001b[0m     \u001b[1;32mreturn\u001b[0m \u001b[1;33m[\u001b[0m\u001b[0mstrParam1\u001b[0m\u001b[1;33m,\u001b[0m\u001b[0mstrParam1\u001b[0m\u001b[1;33m[\u001b[0m\u001b[1;36m1\u001b[0m\u001b[1;33m]\u001b[0m\u001b[1;33m.\u001b[0m\u001b[0misnumeric\u001b[0m\u001b[1;33m(\u001b[0m\u001b[1;33m)\u001b[0m\u001b[1;33m]\u001b[0m\u001b[1;33m\u001b[0m\u001b[1;33m\u001b[0m\u001b[0m\n\u001b[0;32m      7\u001b[0m \u001b[1;33m\u001b[0m\u001b[0m\n",
      "\u001b[1;31mNameError\u001b[0m: name 'isnumeric' is not defined"
     ]
    }
   ],
   "source": [
    "from typing import List\n",
    "import re\n",
    "def left_digit(strParam: str) -> int:\n",
    "    strParam1 = list(strParam)\n",
    "    isnumeric() \n",
    "    return [strParam1,strParam1[1].isnumeric()]\n",
    "    \n",
    "    \n",
    "\n",
    "strParam = '9753'\n",
    "left_digit(strParam)"
   ]
  },
  {
   "cell_type": "code",
   "execution_count": null,
   "id": "dade47e2",
   "metadata": {},
   "outputs": [],
   "source": []
  }
 ],
 "metadata": {
  "kernelspec": {
   "display_name": "Python 3",
   "language": "python",
   "name": "python3"
  },
  "language_info": {
   "codemirror_mode": {
    "name": "ipython",
    "version": 3
   },
   "file_extension": ".py",
   "mimetype": "text/x-python",
   "name": "python",
   "nbconvert_exporter": "python",
   "pygments_lexer": "ipython3",
   "version": "3.9.5"
  }
 },
 "nbformat": 4,
 "nbformat_minor": 5
}
